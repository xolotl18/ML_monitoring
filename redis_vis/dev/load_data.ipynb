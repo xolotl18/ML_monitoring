{
 "cells": [
  {
   "cell_type": "code",
   "execution_count": 2,
   "metadata": {},
   "outputs": [
    {
     "data": {
      "text/html": [
       "<div>\n",
       "<style scoped>\n",
       "    .dataframe tbody tr th:only-of-type {\n",
       "        vertical-align: middle;\n",
       "    }\n",
       "\n",
       "    .dataframe tbody tr th {\n",
       "        vertical-align: top;\n",
       "    }\n",
       "\n",
       "    .dataframe thead th {\n",
       "        text-align: right;\n",
       "    }\n",
       "</style>\n",
       "<table border=\"1\" class=\"dataframe\">\n",
       "  <thead>\n",
       "    <tr style=\"text-align: right;\">\n",
       "      <th></th>\n",
       "      <th>filename</th>\n",
       "      <th>time_frame</th>\n",
       "      <th>machine_id</th>\n",
       "      <th>op_id</th>\n",
       "      <th>tool_id</th>\n",
       "      <th>sensor_id</th>\n",
       "      <th>sampling_f</th>\n",
       "      <th>max</th>\n",
       "      <th>dtype</th>\n",
       "      <th>status</th>\n",
       "    </tr>\n",
       "  </thead>\n",
       "  <tbody>\n",
       "    <tr>\n",
       "      <th>0</th>\n",
       "      <td>0.csv</td>\n",
       "      <td>1</td>\n",
       "      <td>0</td>\n",
       "      <td>3</td>\n",
       "      <td>0</td>\n",
       "      <td>0</td>\n",
       "      <td>2000</td>\n",
       "      <td>8192</td>\n",
       "      <td>&lt;i2</td>\n",
       "      <td>bad</td>\n",
       "    </tr>\n",
       "    <tr>\n",
       "      <th>1</th>\n",
       "      <td>1.csv</td>\n",
       "      <td>2</td>\n",
       "      <td>0</td>\n",
       "      <td>3</td>\n",
       "      <td>0</td>\n",
       "      <td>0</td>\n",
       "      <td>2000</td>\n",
       "      <td>8192</td>\n",
       "      <td>&lt;i2</td>\n",
       "      <td>good</td>\n",
       "    </tr>\n",
       "    <tr>\n",
       "      <th>2</th>\n",
       "      <td>2.csv</td>\n",
       "      <td>1</td>\n",
       "      <td>0</td>\n",
       "      <td>3</td>\n",
       "      <td>0</td>\n",
       "      <td>0</td>\n",
       "      <td>2000</td>\n",
       "      <td>8192</td>\n",
       "      <td>&lt;i2</td>\n",
       "      <td>good</td>\n",
       "    </tr>\n",
       "    <tr>\n",
       "      <th>3</th>\n",
       "      <td>3.csv</td>\n",
       "      <td>0</td>\n",
       "      <td>0</td>\n",
       "      <td>3</td>\n",
       "      <td>0</td>\n",
       "      <td>0</td>\n",
       "      <td>2000</td>\n",
       "      <td>8192</td>\n",
       "      <td>&lt;i2</td>\n",
       "      <td>good</td>\n",
       "    </tr>\n",
       "    <tr>\n",
       "      <th>4</th>\n",
       "      <td>4.csv</td>\n",
       "      <td>2</td>\n",
       "      <td>0</td>\n",
       "      <td>3</td>\n",
       "      <td>0</td>\n",
       "      <td>0</td>\n",
       "      <td>2000</td>\n",
       "      <td>8192</td>\n",
       "      <td>&lt;i2</td>\n",
       "      <td>good</td>\n",
       "    </tr>\n",
       "  </tbody>\n",
       "</table>\n",
       "</div>"
      ],
      "text/plain": [
       "  filename  time_frame  machine_id  op_id  tool_id  sensor_id  sampling_f  \\\n",
       "0    0.csv           1           0      3        0          0        2000   \n",
       "1    1.csv           2           0      3        0          0        2000   \n",
       "2    2.csv           1           0      3        0          0        2000   \n",
       "3    3.csv           0           0      3        0          0        2000   \n",
       "4    4.csv           2           0      3        0          0        2000   \n",
       "\n",
       "    max dtype status  \n",
       "0  8192   <i2    bad  \n",
       "1  8192   <i2   good  \n",
       "2  8192   <i2   good  \n",
       "3  8192   <i2   good  \n",
       "4  8192   <i2   good  "
      ]
     },
     "execution_count": 2,
     "metadata": {},
     "output_type": "execute_result"
    }
   ],
   "source": [
    "import redis\n",
    "import os\n",
    "import numpy as np\n",
    "import pandas as pd\n",
    "\n",
    "r = redis.Redis(host='localhost', port=6379)\n",
    "\n",
    "input_url = \"bosch_cnc\"\n",
    "metadata_url = os.path.join(\n",
    "    input_url,\n",
    "    \"metadata.csv\"\n",
    ")\n",
    "metadata_df = pd.read_csv(metadata_url)\n",
    "metadata_df.head()"
   ]
  },
  {
   "cell_type": "markdown",
   "metadata": {},
   "source": [
    "## Load Signal Data into Redis"
   ]
  },
  {
   "cell_type": "code",
   "execution_count": 52,
   "metadata": {},
   "outputs": [],
   "source": [
    "DATA_COLUMNS = {\n",
    "    \"x\": np.float32,\n",
    "    \"y\": np.float32,\n",
    "    \"z\": np.float32,\n",
    "}\n",
    "filenames = os.listdir(input_url)\n",
    "filenames.remove('metadata.csv')\n",
    "filenames.remove('.DS_Store')\n",
    "\n",
    "for filename in filenames:\n",
    "    file_path = os.path.join(input_url, filename)\n",
    "    data_df = pd.read_csv(\n",
    "        file_path, \n",
    "        names=DATA_COLUMNS.keys(),\n",
    "        dtype=DATA_COLUMNS,\n",
    "    )\n",
    "    \n",
    "    \n",
    "    x = np.array(data_df['x']).tobytes()\n",
    "    y = np.array(data_df['y']).tobytes()\n",
    "    z = np.array(data_df['z']).tobytes()\n",
    "    mapping = {\n",
    "        'x': x,\n",
    "        'y': y,\n",
    "        'z': z\n",
    "    }\n",
    "    signal_name = filename.split('.')[0]\n",
    "\n",
    "    r.hset(name='signal:'+signal_name, mapping=mapping)\n",
    "    \n",
    "    \n"
   ]
  },
  {
   "cell_type": "code",
   "execution_count": 53,
   "metadata": {},
   "outputs": [
    {
     "name": "stdout",
     "output_type": "stream",
     "text": [
      "1702\n"
     ]
    }
   ],
   "source": [
    "FILES = []\n",
    "for file in r.keys(pattern='signal:*'):\n",
    "    FILES.append(int(file.decode('utf-8').split(':')[-1]))\n",
    "FILES.sort()\n",
    "print(len(FILES))"
   ]
  },
  {
   "cell_type": "code",
   "execution_count": 49,
   "metadata": {},
   "outputs": [
    {
     "name": "stdout",
     "output_type": "stream",
     "text": [
      "tensor([31169.9922, 51175.6172, 58363.3281,  ..., 29700.3594, 47237.5664,\n",
      "        11392.8174])\n",
      "tensor([31169.9922, 51175.6172, 58363.3281,  ..., 29700.3594, 47237.5664,\n",
      "        11392.8174])\n"
     ]
    }
   ],
   "source": [
    "import torch\n",
    "signal_name = FILES[0]\n",
    "response = r.hget(name=\"signal:\"+str(signal_name), key='x')\n",
    "\n",
    "file_path = os.path.join(input_url, '0.csv')\n",
    "data_df = pd.read_csv(\n",
    "    file_path, \n",
    "    names=DATA_COLUMNS.keys(),\n",
    "    dtype=DATA_COLUMNS,\n",
    ")\n",
    "\n",
    "\n",
    "signal = np.array(data_df['x'])\n",
    "\n",
    "'''x_axis = np.frombuffer(r.hget(name=\"signal:\"+str(filename), key='x'), dtype=np.dtype(float))\n",
    "y_axis = np.frombuffer(r.hget(name=\"signal:\"+str(filename), key='y'), dtype=np.dtype(float))\n",
    "z_axis = np.frombuffer(r.hget(name=\"signal:\"+str(filename), key='z'), dtype=np.dtype(float))\n",
    "\n",
    "signal_1 = {\n",
    "    'x':x_axis,\n",
    "    'y':y_axis\n",
    "}'''\n",
    "#print(np.frombuffer(signal), dtype=np.dtype(float))\n",
    "\n",
    "#print(np.frombuffer(response))\n",
    "x = signal.tobytes(order='C')\n",
    "conv = np.frombuffer(response, dtype=np.float32)\n",
    "print(torch.fft.rfft(torch.Tensor(signal)).abs())\n",
    "print(torch.fft.rfft(torch.Tensor(conv)).abs())"
   ]
  },
  {
   "cell_type": "code",
   "execution_count": 55,
   "metadata": {},
   "outputs": [
    {
     "name": "stdout",
     "output_type": "stream",
     "text": [
      "1702\n"
     ]
    }
   ],
   "source": [
    "processed_signals = [0 for i in np.arange(len(FILES))]\n",
    "print(len(processed_signals))"
   ]
  },
  {
   "cell_type": "markdown",
   "metadata": {},
   "source": [
    "## Load Metadata information into Redis"
   ]
  },
  {
   "cell_type": "code",
   "execution_count": 3,
   "metadata": {},
   "outputs": [
    {
     "data": {
      "text/html": [
       "<div>\n",
       "<style scoped>\n",
       "    .dataframe tbody tr th:only-of-type {\n",
       "        vertical-align: middle;\n",
       "    }\n",
       "\n",
       "    .dataframe tbody tr th {\n",
       "        vertical-align: top;\n",
       "    }\n",
       "\n",
       "    .dataframe thead th {\n",
       "        text-align: right;\n",
       "    }\n",
       "</style>\n",
       "<table border=\"1\" class=\"dataframe\">\n",
       "  <thead>\n",
       "    <tr style=\"text-align: right;\">\n",
       "      <th></th>\n",
       "      <th>filename</th>\n",
       "      <th>time_frame</th>\n",
       "      <th>machine_id</th>\n",
       "      <th>op_id</th>\n",
       "      <th>tool_id</th>\n",
       "      <th>sensor_id</th>\n",
       "      <th>sampling_f</th>\n",
       "      <th>max</th>\n",
       "      <th>dtype</th>\n",
       "      <th>status</th>\n",
       "    </tr>\n",
       "  </thead>\n",
       "  <tbody>\n",
       "    <tr>\n",
       "      <th>0</th>\n",
       "      <td>0.csv</td>\n",
       "      <td>1</td>\n",
       "      <td>0</td>\n",
       "      <td>3</td>\n",
       "      <td>0</td>\n",
       "      <td>0</td>\n",
       "      <td>2000</td>\n",
       "      <td>8192</td>\n",
       "      <td>&lt;i2</td>\n",
       "      <td>bad</td>\n",
       "    </tr>\n",
       "    <tr>\n",
       "      <th>1</th>\n",
       "      <td>1.csv</td>\n",
       "      <td>2</td>\n",
       "      <td>0</td>\n",
       "      <td>3</td>\n",
       "      <td>0</td>\n",
       "      <td>0</td>\n",
       "      <td>2000</td>\n",
       "      <td>8192</td>\n",
       "      <td>&lt;i2</td>\n",
       "      <td>good</td>\n",
       "    </tr>\n",
       "    <tr>\n",
       "      <th>2</th>\n",
       "      <td>2.csv</td>\n",
       "      <td>1</td>\n",
       "      <td>0</td>\n",
       "      <td>3</td>\n",
       "      <td>0</td>\n",
       "      <td>0</td>\n",
       "      <td>2000</td>\n",
       "      <td>8192</td>\n",
       "      <td>&lt;i2</td>\n",
       "      <td>good</td>\n",
       "    </tr>\n",
       "    <tr>\n",
       "      <th>3</th>\n",
       "      <td>3.csv</td>\n",
       "      <td>0</td>\n",
       "      <td>0</td>\n",
       "      <td>3</td>\n",
       "      <td>0</td>\n",
       "      <td>0</td>\n",
       "      <td>2000</td>\n",
       "      <td>8192</td>\n",
       "      <td>&lt;i2</td>\n",
       "      <td>good</td>\n",
       "    </tr>\n",
       "    <tr>\n",
       "      <th>4</th>\n",
       "      <td>4.csv</td>\n",
       "      <td>2</td>\n",
       "      <td>0</td>\n",
       "      <td>3</td>\n",
       "      <td>0</td>\n",
       "      <td>0</td>\n",
       "      <td>2000</td>\n",
       "      <td>8192</td>\n",
       "      <td>&lt;i2</td>\n",
       "      <td>good</td>\n",
       "    </tr>\n",
       "  </tbody>\n",
       "</table>\n",
       "</div>"
      ],
      "text/plain": [
       "  filename  time_frame  machine_id  op_id  tool_id  sensor_id  sampling_f  \\\n",
       "0    0.csv           1           0      3        0          0        2000   \n",
       "1    1.csv           2           0      3        0          0        2000   \n",
       "2    2.csv           1           0      3        0          0        2000   \n",
       "3    3.csv           0           0      3        0          0        2000   \n",
       "4    4.csv           2           0      3        0          0        2000   \n",
       "\n",
       "    max dtype status  \n",
       "0  8192   <i2    bad  \n",
       "1  8192   <i2   good  \n",
       "2  8192   <i2   good  \n",
       "3  8192   <i2   good  \n",
       "4  8192   <i2   good  "
      ]
     },
     "execution_count": 3,
     "metadata": {},
     "output_type": "execute_result"
    }
   ],
   "source": [
    "metadata_df.head()"
   ]
  },
  {
   "cell_type": "code",
   "execution_count": 6,
   "metadata": {},
   "outputs": [
    {
     "name": "stdout",
     "output_type": "stream",
     "text": [
      "1702\n",
      "[0, 1, 2, 3, 4, 5, 6, 7, 8, 9]\n",
      "0.csv\n"
     ]
    }
   ],
   "source": [
    "FILES = []\n",
    "for file in r.keys(pattern='signal:*'):\n",
    "    FILES.append(int(file.decode('utf-8').split(':')[-1]))\n",
    "FILES.sort()\n",
    "print(len(FILES))\n",
    "print(FILES[:10])"
   ]
  },
  {
   "cell_type": "code",
   "execution_count": 17,
   "metadata": {},
   "outputs": [],
   "source": [
    "for file in FILES:\n",
    "    filename = str(file)+'.csv'\n",
    "    metadata_row = metadata_df.loc[metadata_df['filename']==filename]\n",
    "    mapping = {\n",
    "        'machine_id' : str(metadata_row.machine_id.values[0]),\n",
    "        'process_id' : str(metadata_row.op_id.values[0]),\n",
    "        'sampling_f' : str(metadata_row.sampling_f.values[0]),\n",
    "        'status'     : str(metadata_row.status.values[0]),\n",
    "    }\n",
    "    r.hset(name='signal:'+str(file), mapping=mapping)\n"
   ]
  }
 ],
 "metadata": {
  "kernelspec": {
   "display_name": "Python 3.10.6 ('ml')",
   "language": "python",
   "name": "python3"
  },
  "language_info": {
   "codemirror_mode": {
    "name": "ipython",
    "version": 3
   },
   "file_extension": ".py",
   "mimetype": "text/x-python",
   "name": "python",
   "nbconvert_exporter": "python",
   "pygments_lexer": "ipython3",
   "version": "3.10.6"
  },
  "orig_nbformat": 4,
  "vscode": {
   "interpreter": {
    "hash": "4667499564d2bed0626721842934a1d8442dbec453e340d89c7c58f7270e5132"
   }
  }
 },
 "nbformat": 4,
 "nbformat_minor": 2
}
