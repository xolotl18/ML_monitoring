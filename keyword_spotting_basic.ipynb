{
  "nbformat": 4,
  "nbformat_minor": 0,
  "metadata": {
    "colab": {
      "provenance": []
    },
    "kernelspec": {
      "name": "python3",
      "display_name": "Python 3"
    },
    "language_info": {
      "name": "python"
    },
    "accelerator": "GPU"
  },
  "cells": [
    {
      "cell_type": "code",
      "execution_count": 1,
      "metadata": {
        "id": "K2h-ZzaJH7ES"
      },
      "outputs": [],
      "source": [
        "import os\n",
        "import pathlib\n",
        "import numpy as np\n",
        "import tensorflow as tf\n",
        "from   tensorflow.keras.layers.experimental import preprocessing\n",
        "from   tensorflow.keras import layers\n",
        "from   tensorflow.keras import models\n",
        "from   tensorflow.keras.optimizers.schedules import PolynomialDecay\n"
      ]
    },
    {
      "cell_type": "code",
      "source": [
        "class SignalGenerator:\n",
        "    def __init__(self, labels, sampling_rate, frame_length, frame_step,\n",
        "            num_mel_bins=None, lower_frequency=None, upper_frequency=None,\n",
        "            num_coefficients=None, mfcc=False):\n",
        "        self.labels = labels\n",
        "        self.sampling_rate = sampling_rate\n",
        "        self.frame_length = frame_length\n",
        "        self.frame_step = frame_step\n",
        "        self.num_mel_bins = num_mel_bins\n",
        "        self.lower_frequency = lower_frequency\n",
        "        self.upper_frequency = upper_frequency\n",
        "        self.num_coefficients = num_coefficients\n",
        "        num_spectrogram_bins = (frame_length) // 2 + 1\n",
        "\n",
        "        if mfcc is True:\n",
        "            self.linear_to_mel_weight_matrix = tf.signal.linear_to_mel_weight_matrix(\n",
        "                    self.num_mel_bins, num_spectrogram_bins, self.sampling_rate,\n",
        "                    self.lower_frequency, self.upper_frequency)\n",
        "            self.preprocess = self.preprocess_with_mfcc\n",
        "        else:\n",
        "            self.preprocess = self.preprocess_with_stft\n",
        "\n",
        "    def read(self, file_path):\n",
        "        parts = tf.strings.split(file_path, os.path.sep)\n",
        "        label = parts[-2]\n",
        "        label_id = tf.argmax(label == self.labels)\n",
        "        audio_binary = tf.io.read_file(file_path)\n",
        "        audio, _ = tf.audio.decode_wav(audio_binary)\n",
        "        audio = tf.squeeze(audio, axis=1)\n",
        "\n",
        "        return audio, label_id\n",
        "\n",
        "    def pad(self, audio):\n",
        "        zero_padding = tf.zeros([self.sampling_rate] - tf.shape(audio), dtype=tf.float32)\n",
        "        audio = tf.concat([audio, zero_padding], 0)\n",
        "        audio.set_shape([self.sampling_rate])\n",
        "\n",
        "        return audio\n",
        "\n",
        "    def get_spectrogram(self, audio):\n",
        "        stft = tf.signal.stft(audio, frame_length=self.frame_length,\n",
        "                frame_step=self.frame_step, fft_length=self.frame_length)\n",
        "        spectrogram = tf.abs(stft)\n",
        "\n",
        "        return spectrogram\n",
        "\n",
        "    def get_mfccs(self, spectrogram):\n",
        "        mel_spectrogram = tf.tensordot(spectrogram,\n",
        "                self.linear_to_mel_weight_matrix, 1)\n",
        "        log_mel_spectrogram = tf.math.log(mel_spectrogram + 1.e-6)\n",
        "        mfccs = tf.signal.mfccs_from_log_mel_spectrograms(log_mel_spectrogram)\n",
        "        mfccs = mfccs[..., :self.num_coefficients]\n",
        "\n",
        "        return mfccs\n",
        "\n",
        "    def preprocess_with_stft(self, file_path):\n",
        "        audio, label = self.read(file_path)\n",
        "        audio = self.pad(audio)\n",
        "        spectrogram = self.get_spectrogram(audio)\n",
        "        spectrogram = tf.expand_dims(spectrogram, -1)\n",
        "        spectrogram = tf.image.resize(spectrogram, [32, 32])\n",
        "\n",
        "        return spectrogram, label\n",
        "\n",
        "    def preprocess_with_mfcc(self, file_path):\n",
        "        audio, label = self.read(file_path)\n",
        "        audio = self.pad(audio)\n",
        "        spectrogram = self.get_spectrogram(audio)\n",
        "        mfccs = self.get_mfccs(spectrogram)\n",
        "        mfccs = tf.expand_dims(mfccs, -1)\n",
        "\n",
        "        return mfccs, label\n",
        "\n",
        "    def make_dataset(self, files, train):\n",
        "        ds = tf.data.Dataset.from_tensor_slices(files)\n",
        "        ds = ds.map(self.preprocess, num_parallel_calls=4)\n",
        "        ds = ds.batch(32)\n",
        "        ds = ds.cache()\n",
        "        if train is True:\n",
        "            ds = ds.shuffle(100, reshuffle_each_iteration=True)\n",
        "        return ds"
      ],
      "metadata": {
        "id": "4mJJlUKqIPec"
      },
      "execution_count": 2,
      "outputs": []
    },
    {
      "cell_type": "code",
      "source": [
        "def get_model(conv1, conv2, conv3, conv4):\n",
        "    model = models.Sequential([\n",
        "      layers.Input(shape=shape),\n",
        "      layers.Conv2D(filters=conv1, kernel_size=[3,3], strides=[2,1], use_bias=False),\n",
        "      layers.BatchNormalization(momentum=0.1),\n",
        "      layers.ReLU(),\n",
        "      layers.DepthwiseConv2D(kernel_size=[3,3], strides=[1,1], use_bias=False),\n",
        "      layers.Conv2D(filters=conv2, kernel_size=[1,1], strides=[1,1], use_bias=False),\n",
        "      layers.BatchNormalization(momentum=0.1),\n",
        "      layers.ReLU(),\n",
        "      layers.DepthwiseConv2D(kernel_size=[3,3], strides=[1,1], use_bias=False),\n",
        "      layers.Conv2D(filters=conv3, kernel_size=[1,1], strides=[1,1], use_bias=False),\n",
        "      layers.BatchNormalization(momentum=0.1),\n",
        "      layers.ReLU(),\n",
        "      layers.DepthwiseConv2D(kernel_size=[3,3], strides=[1,1], use_bias=False),\n",
        "      layers.Conv2D(filters=conv4, kernel_size=[1,1], strides=[1,1], use_bias=False),\n",
        "      layers.BatchNormalization(momentum=0.1),\n",
        "      layers.ReLU(),\n",
        "      layers.GlobalAveragePooling2D(),\n",
        "      layers.Dense(8)\n",
        "    ])\n",
        "    return model "
      ],
      "metadata": {
        "id": "a4sTm0m3IcG3"
      },
      "execution_count": 8,
      "outputs": []
    },
    {
      "cell_type": "code",
      "source": [
        "!git clone https://github.com/xolotl18/ML_monitoring"
      ],
      "metadata": {
        "colab": {
          "base_uri": "https://localhost:8080/"
        },
        "id": "4ECwYd80KLfE",
        "outputId": "9d01cfcc-b5c4-4d97-b300-af7aed2dbeb9"
      },
      "execution_count": 4,
      "outputs": [
        {
          "output_type": "stream",
          "name": "stdout",
          "text": [
            "Cloning into 'ML_monitoring'...\n",
            "remote: Enumerating objects: 16, done.\u001b[K\n",
            "remote: Counting objects: 100% (16/16), done.\u001b[K\n",
            "remote: Compressing objects: 100% (14/14), done.\u001b[K\n",
            "remote: Total 16 (delta 5), reused 0 (delta 0), pack-reused 0\u001b[K\n",
            "Unpacking objects: 100% (16/16), done.\n"
          ]
        }
      ]
    },
    {
      "cell_type": "code",
      "source": [
        "code_path = \"ML_monitoring/data_splits\"\n",
        "\n",
        "data_dir = pathlib.Path('data/mini_speech_commands')\n",
        "if not data_dir.exists():\n",
        "  tf.keras.utils.get_file(\n",
        "      'mini_speech_commands.zip',\n",
        "      origin=\"http://storage.googleapis.com/download.tensorflow.org/data/mini_speech_commands.zip\",\n",
        "      extract=True,\n",
        "      cache_dir='.', cache_subdir='data')\n",
        "  \n",
        "#lista di labels\n",
        "labels=[]\n",
        "for el in os.listdir(\"./data/mini_speech_commands\"):\n",
        "  if el!=\"README.md\":\n",
        "    labels.append(el)\n",
        "\n",
        "#lista di training\n",
        "training_list=[]\n",
        "file=open(code_path+\"/kws_train_split.txt\")\n",
        "for line in file:\n",
        "  training_list.append('.'+line[1:-1])\n",
        "\n",
        "#lista di validation\n",
        "validation_list=[]\n",
        "file=open(code_path+\"/kws_val_split.txt\")\n",
        "for line in file:\n",
        "  validation_list.append('.'+line[1:-1])\n",
        "\n",
        "#lista di test\n",
        "test_list=[]\n",
        "file=open(code_path+\"/kws_test_split.txt\")\n",
        "for line in file:\n",
        "  test_list.append('.'+line[1:-1])\n",
        "\n",
        "tot=len(training_list)+len(validation_list)+len(test_list)"
      ],
      "metadata": {
        "colab": {
          "base_uri": "https://localhost:8080/"
        },
        "id": "KDvrcOtoIgYV",
        "outputId": "08365425-93d9-4f8c-c6b1-85bd5c7212f5"
      },
      "execution_count": 5,
      "outputs": [
        {
          "output_type": "stream",
          "name": "stdout",
          "text": [
            "Downloading data from http://storage.googleapis.com/download.tensorflow.org/data/mini_speech_commands.zip\n",
            "182083584/182082353 [==============================] - 1s 0us/step\n",
            "182091776/182082353 [==============================] - 1s 0us/step\n"
          ]
        }
      ]
    },
    {
      "cell_type": "code",
      "source": [
        "MFCC_OPTIONS = {'frame_length': 640, 'frame_step': 320, 'mfcc': True,'lower_frequency': 20, 'upper_frequency': 4000, 'num_mel_bins': 40,'num_coefficients': 10}\n",
        "shape = [49, 10, 1]\n",
        "\n",
        "model_options = {'conv1':64, 'conv2':96, 'conv3':128, 'conv4':256}\n",
        "\n",
        "generator = SignalGenerator(labels, 16000, **MFCC_OPTIONS)\n",
        "train_ds = generator.make_dataset(training_list, True)\n",
        "val_ds = generator.make_dataset(validation_list, False)\n",
        "test_ds = generator.make_dataset(test_list, False)\n",
        "\n",
        "n_batches = 200\n",
        "\n",
        "model = get_model(**model_options)\n",
        "\n",
        "model.summary()"
      ],
      "metadata": {
        "colab": {
          "base_uri": "https://localhost:8080/"
        },
        "id": "_xQ4vjjMLF8t",
        "outputId": "a6fc8de4-1e31-4b5c-d843-7af4baf6fd47"
      },
      "execution_count": 11,
      "outputs": [
        {
          "output_type": "stream",
          "name": "stdout",
          "text": [
            "Model: \"sequential_1\"\n",
            "_________________________________________________________________\n",
            " Layer (type)                Output Shape              Param #   \n",
            "=================================================================\n",
            " conv2d_8 (Conv2D)           (None, 24, 8, 64)         576       \n",
            "                                                                 \n",
            " batch_normalization_8 (Batc  (None, 24, 8, 64)        256       \n",
            " hNormalization)                                                 \n",
            "                                                                 \n",
            " re_lu_8 (ReLU)              (None, 24, 8, 64)         0         \n",
            "                                                                 \n",
            " depthwise_conv2d_6 (Depthwi  (None, 22, 6, 64)        576       \n",
            " seConv2D)                                                       \n",
            "                                                                 \n",
            " conv2d_9 (Conv2D)           (None, 22, 6, 96)         6144      \n",
            "                                                                 \n",
            " batch_normalization_9 (Batc  (None, 22, 6, 96)        384       \n",
            " hNormalization)                                                 \n",
            "                                                                 \n",
            " re_lu_9 (ReLU)              (None, 22, 6, 96)         0         \n",
            "                                                                 \n",
            " depthwise_conv2d_7 (Depthwi  (None, 20, 4, 96)        864       \n",
            " seConv2D)                                                       \n",
            "                                                                 \n",
            " conv2d_10 (Conv2D)          (None, 20, 4, 128)        12288     \n",
            "                                                                 \n",
            " batch_normalization_10 (Bat  (None, 20, 4, 128)       512       \n",
            " chNormalization)                                                \n",
            "                                                                 \n",
            " re_lu_10 (ReLU)             (None, 20, 4, 128)        0         \n",
            "                                                                 \n",
            " depthwise_conv2d_8 (Depthwi  (None, 18, 2, 128)       1152      \n",
            " seConv2D)                                                       \n",
            "                                                                 \n",
            " conv2d_11 (Conv2D)          (None, 18, 2, 256)        32768     \n",
            "                                                                 \n",
            " batch_normalization_11 (Bat  (None, 18, 2, 256)       1024      \n",
            " chNormalization)                                                \n",
            "                                                                 \n",
            " re_lu_11 (ReLU)             (None, 18, 2, 256)        0         \n",
            "                                                                 \n",
            " global_average_pooling2d_2   (None, 256)              0         \n",
            " (GlobalAveragePooling2D)                                        \n",
            "                                                                 \n",
            " dense_1 (Dense)             (None, 8)                 2056      \n",
            "                                                                 \n",
            "=================================================================\n",
            "Total params: 58,600\n",
            "Trainable params: 57,512\n",
            "Non-trainable params: 1,088\n",
            "_________________________________________________________________\n"
          ]
        }
      ]
    },
    {
      "cell_type": "code",
      "source": [
        "learning_rate_fn = PolynomialDecay(\n",
        "    initial_learning_rate=1e-3,\n",
        "    decay_steps=3000,\n",
        "    end_learning_rate=1e-5\n",
        "    )\n",
        "\n",
        "model.compile(\n",
        "    optimizer = tf.keras.optimizers.Adam(learning_rate=learning_rate_fn),\n",
        "    loss = tf.keras.losses.SparseCategoricalCrossentropy(from_logits=True),\n",
        "    metrics = ['sparse_categorical_accuracy'] \n",
        ")\n",
        "\n",
        "# callbacks\n",
        "ckp_dir = \"./checkpoint/\"\n",
        "try:\n",
        "  os.mkdir(ckp_dir)\n",
        "except FileExistsError:\n",
        "  pass\n",
        "\n",
        "checkpoint_cb = tf.keras.callbacks.ModelCheckpoint(\n",
        "    ckp_dir, \n",
        "    monitor='val_sparse_categorical_accuracy', \n",
        "    verbose=0, \n",
        "    save_best_only=True,\n",
        "    save_weights_only=False, \n",
        "    mode='max', \n",
        "    save_freq='epoch')\n",
        "\n",
        "# fit model\n",
        "EPOCHS = 30\n",
        "history = model.fit(\n",
        "    train_ds, \n",
        "    validation_data=val_ds,  \n",
        "    epochs=EPOCHS,\n",
        "    callbacks=[checkpoint_cb],\n",
        ")\n",
        "\n",
        "base_model = tf.keras.models.load_model(ckp_dir)\n",
        "base_model.evaluate(test_ds, batch_size=32)"
      ],
      "metadata": {
        "colab": {
          "base_uri": "https://localhost:8080/"
        },
        "id": "7AFkXiUuNcwy",
        "outputId": "f8362760-af02-48ad-cbd8-be5e01ff6fc9"
      },
      "execution_count": 12,
      "outputs": [
        {
          "output_type": "stream",
          "name": "stdout",
          "text": [
            "Epoch 1/30\n",
            "200/200 [==============================] - 161s 414ms/step - loss: 1.1199 - sparse_categorical_accuracy: 0.6427 - val_loss: 0.7046 - val_sparse_categorical_accuracy: 0.7950\n",
            "Epoch 2/30\n",
            "200/200 [==============================] - 3s 14ms/step - loss: 0.4976 - sparse_categorical_accuracy: 0.8572 - val_loss: 0.4169 - val_sparse_categorical_accuracy: 0.8725\n",
            "Epoch 3/30\n",
            "200/200 [==============================] - 3s 13ms/step - loss: 0.3460 - sparse_categorical_accuracy: 0.8970 - val_loss: 0.3356 - val_sparse_categorical_accuracy: 0.9000\n",
            "Epoch 4/30\n",
            "200/200 [==============================] - 1s 6ms/step - loss: 0.2646 - sparse_categorical_accuracy: 0.9195 - val_loss: 0.2983 - val_sparse_categorical_accuracy: 0.8975\n",
            "Epoch 5/30\n",
            "200/200 [==============================] - 3s 14ms/step - loss: 0.2191 - sparse_categorical_accuracy: 0.9345 - val_loss: 0.2655 - val_sparse_categorical_accuracy: 0.9237\n",
            "Epoch 6/30\n",
            "200/200 [==============================] - 1s 6ms/step - loss: 0.1783 - sparse_categorical_accuracy: 0.9481 - val_loss: 0.3024 - val_sparse_categorical_accuracy: 0.9013\n",
            "Epoch 7/30\n",
            "200/200 [==============================] - 1s 5ms/step - loss: 0.1492 - sparse_categorical_accuracy: 0.9569 - val_loss: 0.2301 - val_sparse_categorical_accuracy: 0.9075\n",
            "Epoch 8/30\n",
            "200/200 [==============================] - 1s 5ms/step - loss: 0.1204 - sparse_categorical_accuracy: 0.9673 - val_loss: 0.2314 - val_sparse_categorical_accuracy: 0.9150\n",
            "Epoch 9/30\n",
            "200/200 [==============================] - 3s 13ms/step - loss: 0.1030 - sparse_categorical_accuracy: 0.9756 - val_loss: 0.2066 - val_sparse_categorical_accuracy: 0.9325\n",
            "Epoch 10/30\n",
            "200/200 [==============================] - 1s 6ms/step - loss: 0.0846 - sparse_categorical_accuracy: 0.9825 - val_loss: 0.2070 - val_sparse_categorical_accuracy: 0.9275\n",
            "Epoch 11/30\n",
            "200/200 [==============================] - 1s 5ms/step - loss: 0.0730 - sparse_categorical_accuracy: 0.9867 - val_loss: 0.2139 - val_sparse_categorical_accuracy: 0.9300\n",
            "Epoch 12/30\n",
            "200/200 [==============================] - 3s 14ms/step - loss: 0.0625 - sparse_categorical_accuracy: 0.9887 - val_loss: 0.1969 - val_sparse_categorical_accuracy: 0.9350\n",
            "Epoch 13/30\n",
            "200/200 [==============================] - 1s 6ms/step - loss: 0.0558 - sparse_categorical_accuracy: 0.9909 - val_loss: 0.2087 - val_sparse_categorical_accuracy: 0.9287\n",
            "Epoch 14/30\n",
            "200/200 [==============================] - 1s 5ms/step - loss: 0.0501 - sparse_categorical_accuracy: 0.9920 - val_loss: 0.2183 - val_sparse_categorical_accuracy: 0.9162\n",
            "Epoch 15/30\n",
            "200/200 [==============================] - 1s 5ms/step - loss: 0.0460 - sparse_categorical_accuracy: 0.9930 - val_loss: 0.2137 - val_sparse_categorical_accuracy: 0.9237\n",
            "Epoch 16/30\n",
            "200/200 [==============================] - 1s 5ms/step - loss: 0.0440 - sparse_categorical_accuracy: 0.9933 - val_loss: 0.1923 - val_sparse_categorical_accuracy: 0.9287\n",
            "Epoch 17/30\n",
            "200/200 [==============================] - 1s 5ms/step - loss: 0.0437 - sparse_categorical_accuracy: 0.9933 - val_loss: 0.2049 - val_sparse_categorical_accuracy: 0.9287\n",
            "Epoch 18/30\n",
            "200/200 [==============================] - 1s 5ms/step - loss: 0.0435 - sparse_categorical_accuracy: 0.9937 - val_loss: 0.1930 - val_sparse_categorical_accuracy: 0.9275\n",
            "Epoch 19/30\n",
            "200/200 [==============================] - 1s 5ms/step - loss: 0.0433 - sparse_categorical_accuracy: 0.9936 - val_loss: 0.2234 - val_sparse_categorical_accuracy: 0.9187\n",
            "Epoch 20/30\n",
            "200/200 [==============================] - 1s 5ms/step - loss: 0.0430 - sparse_categorical_accuracy: 0.9937 - val_loss: 0.2196 - val_sparse_categorical_accuracy: 0.9275\n",
            "Epoch 21/30\n",
            "200/200 [==============================] - 1s 6ms/step - loss: 0.0427 - sparse_categorical_accuracy: 0.9939 - val_loss: 0.2174 - val_sparse_categorical_accuracy: 0.9262\n",
            "Epoch 22/30\n",
            "200/200 [==============================] - 1s 5ms/step - loss: 0.0425 - sparse_categorical_accuracy: 0.9939 - val_loss: 0.2268 - val_sparse_categorical_accuracy: 0.9325\n",
            "Epoch 23/30\n",
            "200/200 [==============================] - 1s 5ms/step - loss: 0.0422 - sparse_categorical_accuracy: 0.9939 - val_loss: 0.2240 - val_sparse_categorical_accuracy: 0.9337\n",
            "Epoch 24/30\n",
            "200/200 [==============================] - 1s 5ms/step - loss: 0.0419 - sparse_categorical_accuracy: 0.9941 - val_loss: 0.2124 - val_sparse_categorical_accuracy: 0.9187\n",
            "Epoch 25/30\n",
            "200/200 [==============================] - 1s 5ms/step - loss: 0.0417 - sparse_categorical_accuracy: 0.9941 - val_loss: 0.2090 - val_sparse_categorical_accuracy: 0.9337\n",
            "Epoch 26/30\n",
            "200/200 [==============================] - 1s 5ms/step - loss: 0.0414 - sparse_categorical_accuracy: 0.9941 - val_loss: 0.2099 - val_sparse_categorical_accuracy: 0.9250\n",
            "Epoch 27/30\n",
            "200/200 [==============================] - 1s 5ms/step - loss: 0.0411 - sparse_categorical_accuracy: 0.9939 - val_loss: 0.2502 - val_sparse_categorical_accuracy: 0.9250\n",
            "Epoch 28/30\n",
            "200/200 [==============================] - 1s 5ms/step - loss: 0.0408 - sparse_categorical_accuracy: 0.9941 - val_loss: 0.2409 - val_sparse_categorical_accuracy: 0.9250\n",
            "Epoch 29/30\n",
            "200/200 [==============================] - 1s 5ms/step - loss: 0.0405 - sparse_categorical_accuracy: 0.9941 - val_loss: 0.2138 - val_sparse_categorical_accuracy: 0.9337\n",
            "Epoch 30/30\n",
            "200/200 [==============================] - 1s 5ms/step - loss: 0.0402 - sparse_categorical_accuracy: 0.9941 - val_loss: 0.2139 - val_sparse_categorical_accuracy: 0.9175\n",
            "25/25 [==============================] - 16s 637ms/step - loss: 0.2589 - sparse_categorical_accuracy: 0.9137\n"
          ]
        },
        {
          "output_type": "execute_result",
          "data": {
            "text/plain": [
              "[0.2589355707168579, 0.9137499928474426]"
            ]
          },
          "metadata": {},
          "execution_count": 12
        }
      ]
    },
    {
      "cell_type": "code",
      "source": [
        "base_model.save_weights('model_weights.h5')"
      ],
      "metadata": {
        "id": "l4Z3P1B7P-y3"
      },
      "execution_count": 27,
      "outputs": []
    },
    {
      "cell_type": "code",
      "source": [
        "model2 = get_model(**model_options)\n",
        "model2.load_weights('model_weights.h5')"
      ],
      "metadata": {
        "id": "YBD0BC7KQSv4"
      },
      "execution_count": 28,
      "outputs": []
    },
    {
      "cell_type": "code",
      "source": [
        "model2.compile(\n",
        "    optimizer = tf.keras.optimizers.Adam(learning_rate=learning_rate_fn),\n",
        "    loss = tf.keras.losses.SparseCategoricalCrossentropy(from_logits=True),\n",
        "    metrics = ['sparse_categorical_accuracy'] \n",
        ")\n",
        "model2.evaluate(test_ds, batch_size=32)"
      ],
      "metadata": {
        "colab": {
          "base_uri": "https://localhost:8080/"
        },
        "id": "fSlsvLYkQtoY",
        "outputId": "bdf22d31-f8b4-45c9-999b-364c1d44220e"
      },
      "execution_count": 29,
      "outputs": [
        {
          "output_type": "stream",
          "name": "stdout",
          "text": [
            "25/25 [==============================] - 0s 3ms/step - loss: 0.2589 - sparse_categorical_accuracy: 0.9137\n"
          ]
        },
        {
          "output_type": "execute_result",
          "data": {
            "text/plain": [
              "[0.2589355707168579, 0.9137499928474426]"
            ]
          },
          "metadata": {},
          "execution_count": 29
        }
      ]
    }
  ]
}