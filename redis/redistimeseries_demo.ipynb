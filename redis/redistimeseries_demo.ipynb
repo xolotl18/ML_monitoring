{
 "cells": [
  {
   "cell_type": "code",
   "execution_count": 11,
   "metadata": {},
   "outputs": [],
   "source": [
    "import redis\n",
    "import time"
   ]
  },
  {
   "cell_type": "code",
   "execution_count": 6,
   "metadata": {},
   "outputs": [],
   "source": [
    "r = redis.Redis(host='localhost', port=6379)\n"
   ]
  },
  {
   "cell_type": "markdown",
   "metadata": {},
   "source": [
    "## Create a RedisTimeSeries object and fill it with elements from the txt file"
   ]
  },
  {
   "cell_type": "code",
   "execution_count": 42,
   "metadata": {},
   "outputs": [
    {
     "data": {
      "text/plain": [
       "True"
      ]
     },
     "execution_count": 42,
     "metadata": {},
     "output_type": "execute_result"
    }
   ],
   "source": [
    "r.ts().create('x_ts')\n",
    "r.ts().create('y_ts')\n",
    "r.ts().create('z_ts')\n",
    "# create aggregation timeseries\n",
    "r.ts().create('x_avg')\n",
    "r.ts().create('y_avg')\n",
    "r.ts().create('z_avg')\n",
    "r.ts().createrule('x_ts', 'x_avg', 'avg', '50000000')\n",
    "r.ts().createrule('y_ts', 'y_avg', 'avg', '50000000')\n",
    "r.ts().createrule('z_ts', 'z_avg', 'avg', '50000000')"
   ]
  },
  {
   "cell_type": "code",
   "execution_count": 41,
   "metadata": {},
   "outputs": [],
   "source": [
    "with open('timeseries_data.txt') as f:\n",
    "    for line in f:\n",
    "        x, y, z = line.split(',')\n",
    "        r.ts().add(key = 'x_ts',timestamp=str(time.time_ns()), value=str(x))\n",
    "        r.ts().add(key = 'y_ts',timestamp=str(time.time_ns()), value=str(y))\n",
    "        r.ts().add(key = 'z_ts',timestamp=str(time.time_ns()), value=str(z))\n",
    "        time.sleep(0.0005)\n",
    "        "
   ]
  },
  {
   "cell_type": "code",
   "execution_count": null,
   "metadata": {},
   "outputs": [],
   "source": []
  }
 ],
 "metadata": {
  "kernelspec": {
   "display_name": "Python 3.10.6 ('ml')",
   "language": "python",
   "name": "python3"
  },
  "language_info": {
   "codemirror_mode": {
    "name": "ipython",
    "version": 3
   },
   "file_extension": ".py",
   "mimetype": "text/x-python",
   "name": "python",
   "nbconvert_exporter": "python",
   "pygments_lexer": "ipython3",
   "version": "3.10.6"
  },
  "orig_nbformat": 4,
  "vscode": {
   "interpreter": {
    "hash": "4667499564d2bed0626721842934a1d8442dbec453e340d89c7c58f7270e5132"
   }
  }
 },
 "nbformat": 4,
 "nbformat_minor": 2
}
